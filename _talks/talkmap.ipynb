{
 "cells": [
  {
   "cell_type": "markdown",
   "metadata": {},
   "source": [
    "# Leaflet cluster map of talk locations\n",
    "\n",
    "Run this from the _talks/ directory, which contains .md files of all your talks. This scrapes the location YAML field from each .md file, geolocates it with geopy/Nominatim, and uses the getorg library to output data, HTML, and Javascript for a standalone cluster map."
   ]
  },
  {
   "cell_type": "code",
   "execution_count": 1,
   "metadata": {},
   "outputs": [
    {
     "name": "stdout",
     "output_type": "stream",
     "text": [
      "Requirement already up-to-date: getorg in /usr/local/lib/python3.6/site-packages\n",
      "Requirement already up-to-date: retrying in /usr/local/lib/python3.6/site-packages (from getorg)\n",
      "Requirement already up-to-date: pygithub in /usr/local/lib/python3.6/site-packages (from getorg)\n",
      "Requirement already up-to-date: geopy in /usr/local/lib/python3.6/site-packages (from getorg)\n",
      "Requirement already up-to-date: six>=1.7.0 in /usr/local/lib/python3.6/site-packages (from retrying->getorg)\n",
      "Requirement already up-to-date: pyjwt in /usr/local/lib/python3.6/site-packages (from pygithub->getorg)\n",
      "IPywidgets and ipyleaflet support enabled.\n"
     ]
    }
   ],
   "source": [
    "!pip3 install getorg --upgrade\n",
    "import glob\n",
    "import getorg\n",
    "from geopy import Nominatim"
   ]
  },
  {
   "cell_type": "code",
   "execution_count": 2,
   "metadata": {
    "collapsed": true
   },
   "outputs": [],
   "source": [
    "g = glob.glob(\"*.md\")"
   ]
  },
  {
   "cell_type": "code",
   "execution_count": 3,
   "metadata": {
    "collapsed": true
   },
   "outputs": [],
   "source": [
    "geocoder = Nominatim()\n",
    "location_dict = {}\n",
    "location = \"\"\n",
    "permalink = \"\"\n",
    "title = \"\""
   ]
  },
  {
   "cell_type": "code",
   "execution_count": 4,
   "metadata": {},
   "outputs": [
    {
     "name": "stdout",
     "output_type": "stream",
     "text": [
      "('Los Ba\\xc3\\xb1os, Calabarzon, Philippines', '\\n', Location((14.15550365, 121.225013459, 0.0)))\n",
      "('Pyeongchang, Gangwon-do, Korea', '\\n', Location((37.3736539, 128.3883829, 0.0)))\n",
      "('Geneva, NY, USA', '\\n', Location((42.8689552, -76.9777436, 0.0)))\n",
      "('Beijing, China', '\\n', Location((39.9059631, 116.391248, 0.0)))\n",
      "('Sydney, New South Wales, Australia', '\\n', Location((-33.8548157, 151.2164539, 0.0)))\n",
      "('Jondaryan, Queensland, Australia', '\\n', Location((-27.3689172, 151.5922633, 0.0)))\n",
      "('Ho Chi Minh City, Vietnam', '\\n', Location((10.7758439, 106.7017555, 0.0)))\n",
      "('Auckland, New Zealand', '\\n', Location((-36.8534665, 174.7655514, 0.0)))\n",
      "('New York, New York, USA', '\\n', Location((40.7306458, -73.9866136, 0.0)))\n",
      "('Raipur, Chhattisgarh, India', '\\n', Location((21.2379468, 81.6336833, 0.0)))\n",
      "('Bangkok, Thailand', '\\n', Location((13.7542529, 100.493087, 0.0)))\n",
      "('Brisbane, Queensland, Australia', '\\n', Location((-27.4689682, 153.0234991, 0.0)))\n",
      "('Providence, Rhode Island, USA', '\\n', Location((41.8239891, -71.4128343, 0.0)))\n",
      "('Fremantle, Western Australia, Australia', '\\n', Location((-32.052033, 115.74527, 0.0)))\n"
     ]
    }
   ],
   "source": [
    "\n",
    "for file in g:\n",
    "    with open(file, 'r') as f:\n",
    "        lines = f.read()\n",
    "        if lines.find('location: \"') > 1:\n",
    "            loc_start = lines.find('location: \"') + 11\n",
    "            lines_trim = lines[loc_start:]\n",
    "            loc_end = lines_trim.find('\"')\n",
    "            location = lines_trim[:loc_end]\n",
    "                            \n",
    "           \n",
    "        location_dict[location] = geocoder.geocode(location)\n",
    "        print(location, \"\\n\", location_dict[location])\n"
   ]
  },
  {
   "cell_type": "code",
   "execution_count": 5,
   "metadata": {},
   "outputs": [
    {
     "data": {
      "text/plain": [
       "'Written map to ../talkmap/'"
      ]
     },
     "execution_count": 5,
     "metadata": {},
     "output_type": "execute_result"
    }
   ],
   "source": [
    "m = getorg.orgmap.create_map_obj()\n",
    "getorg.orgmap.output_html_cluster_map(location_dict, folder_name=\"../talkmap\", hashed_usernames=False)"
   ]
  },
  {
   "cell_type": "code",
   "execution_count": null,
   "metadata": {
    "collapsed": true
   },
   "outputs": [],
   "source": []
  }
 ],
 "metadata": {
  "anaconda-cloud": {},
  "kernelspec": {
   "display_name": "Python 2",
   "language": "python",
   "name": "python2"
  },
  "language_info": {
   "codemirror_mode": {
    "name": "ipython",
    "version": 2
   },
   "file_extension": ".py",
   "mimetype": "text/x-python",
   "name": "python",
   "nbconvert_exporter": "python",
   "pygments_lexer": "ipython2",
   "version": "2.7.14"
  }
 },
 "nbformat": 4,
 "nbformat_minor": 1
}
