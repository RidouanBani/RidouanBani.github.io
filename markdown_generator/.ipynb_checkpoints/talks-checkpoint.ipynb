{
 "cells": [
  {
   "cell_type": "markdown",
   "metadata": {},
   "source": [
    "# Talks markdown generator for academicpages\n",
    "\n",
    "Takes a TSV of talks with metadata and converts them for use with [academicpages.github.io](academicpages.github.io). This is an interactive Jupyter notebook ([see more info here](http://jupyter-notebook-beginner-guide.readthedocs.io/en/latest/what_is_jupyter.html)). The core python code is also in `talks.py`. Run either from the `markdown_generator` folder after replacing `talks.tsv` with one containing your data.\n",
    "\n",
    "TODO: Make this work with BibTex and other databases, rather than Stuart's non-standard TSV format and citation style."
   ]
  },
  {
   "cell_type": "code",
   "execution_count": 1,
   "metadata": {},
   "outputs": [],
   "source": [
    "import pandas as pd\n",
    "import os"
   ]
  },
  {
   "cell_type": "markdown",
   "metadata": {},
   "source": [
    "## Data format\n",
    "\n",
    "The TSV needs to have the following columns: title, type, url_slug, venue, date, location, talk_url, description, with a header at the top. Many of these fields can be blank, but the columns must be in the TSV.\n",
    "\n",
    "- Fields that cannot be blank: `title`, `url_slug`, `date`. All else can be blank. `type` defaults to \"Talk\" \n",
    "- `date` must be formatted as YYYY-MM-DD.\n",
    "- `url_slug` will be the descriptive part of the .md file and the permalink URL for the page about the paper. \n",
    "    - The .md file will be `YYYY-MM-DD-[url_slug].md` and the permalink will be `https://[yourdomain]/talks/YYYY-MM-DD-[url_slug]`\n",
    "    - The combination of `url_slug` and `date` must be unique, as it will be the basis for your filenames\n",
    "\n",
    "This is how the raw file looks (it doesn't look pretty, use a spreadsheet or other program to edit and create)."
   ]
  },
  {
   "cell_type": "code",
   "execution_count": 2,
   "metadata": {},
   "outputs": [
    {
     "name": "stdout",
     "output_type": "stream",
     "text": [
      "title\ttype\turl_slug\tvenue\tdate\tlocation\ttalk_url\tdescription\r\n",
      "Mapping Rice Diseases for Targeted Deployment of Resistant Varieties in India\tTalk\tapps_2015\tAustralasian Plant Pathology Society Biennial Meeting\t2015-\tFremantle, WA, AUS\t\t\r\n",
      "Modeling the impact of disease resistance on rice yields in the Philippines and Indonesia\tTalk\tapps_2013\tAustralasian Plant Pathology Society Biennial Meeting\t2013-03-01\tAuckland, NZ\t\t\r\n",
      "Spatial modelling of rice yield losses due to bacterial leaf blight and leaf blast in a changing climate\tTalk\ticpp_2013\t10th International Congress of Plant Pathology\t2014-03-01\tBeijing, China\t\t\r\n",
      "Preventing what ails rice with a strategic, statistical, prescriptive model system\tTalk\taps_2012\tAmerican Phytopathological Society Annual Meeting\t2012-08\tProvidence, Rhode Island\t\t\r\n",
      "Adapting global disease forecasting models for readily available weather data sets in GIS\tTalk\tiep_2009\t9th International Epidemiology Workshop\t2009-06\tGeneva, NY, USA\t\t\r\n",
      "Taking sustainable crop protection from the  field to the cloud\tInvited talk\tirc_2014\t4th International Rice Congress (IRC2014)\t2014-10\tBangkok, Thailand\thttps://figshare.com/articles/Taking_Sustainable_Crop_Protection_From_the_Field_to_the_Cloud/1225800\t\r\n",
      "Impact of climate change on rice diseases\tInvited talk\tcabi_2014\tWorkshop on the impact of climate change on crop pests and diseases, and adaptation strategies for the Greater Mekong Sub – Region (GMS)\t2014-08\tHo Chi Minh City, Vietnam\t\t\r\n",
      "Epidemiology and disease management of rice brown spot: Research priorities and knowledge gaps\tInvited talk\tips_2014\t66th Annual Indian Phytopathological Society Meeting\t2014-06\tIndira Gandhi Krishi Vishwavidyalaya University, Raipur, India\thttps://figshare.com/articles/IPS_2014/1037569\t\r\n",
      "Biosecurity risks in Southeast Asia impacting on human food supplies\tInvited talk\tpacom_2013\tAustralian Department of Defence (ADoD) and U. S. Pacific Command (US- PACOM)\t\tSydney, NSW, Australia\t\t\r\n",
      "Global potato late blight risk in response to climate change, possible futures for a historic disease\tInvited talk\tnyas_2010\tEmerging infectious diseases in response to climate change conference, hosted by New York Academy of Sciences\t2010-03\tNew York, New York, USA\t\t\r\n"
     ]
    }
   ],
   "source": [
    "!cat talks.tsv"
   ]
  },
  {
   "cell_type": "markdown",
   "metadata": {},
   "source": [
    "## Import TSV\n",
    "\n",
    "Pandas makes this easy with the read_csv function. We are using a TSV, so we specify the separator as a tab, or `\\t`.\n",
    "\n",
    "I found it important to put this data in a tab-separated values format, because there are a lot of commas in this kind of data and comma-separated values can get messed up. However, you can modify the import statement, as pandas also has read_excel(), read_json(), and others."
   ]
  },
  {
   "cell_type": "code",
   "execution_count": 3,
   "metadata": {},
   "outputs": [
    {
     "data": {
      "text/html": [
       "<div>\n",
       "<style>\n",
       "    .dataframe thead tr:only-child th {\n",
       "        text-align: right;\n",
       "    }\n",
       "\n",
       "    .dataframe thead th {\n",
       "        text-align: left;\n",
       "    }\n",
       "\n",
       "    .dataframe tbody tr th {\n",
       "        vertical-align: top;\n",
       "    }\n",
       "</style>\n",
       "<table border=\"1\" class=\"dataframe\">\n",
       "  <thead>\n",
       "    <tr style=\"text-align: right;\">\n",
       "      <th></th>\n",
       "      <th>title</th>\n",
       "      <th>type</th>\n",
       "      <th>url_slug</th>\n",
       "      <th>venue</th>\n",
       "      <th>date</th>\n",
       "      <th>location</th>\n",
       "      <th>talk_url</th>\n",
       "      <th>description</th>\n",
       "    </tr>\n",
       "  </thead>\n",
       "  <tbody>\n",
       "    <tr>\n",
       "      <th>0</th>\n",
       "      <td>Mapping Rice Diseases for Targeted Deployment ...</td>\n",
       "      <td>Talk</td>\n",
       "      <td>apps_2015</td>\n",
       "      <td>Australasian Plant Pathology Society Biennial ...</td>\n",
       "      <td>2015-</td>\n",
       "      <td>Fremantle, WA, AUS</td>\n",
       "      <td>NaN</td>\n",
       "      <td>NaN</td>\n",
       "    </tr>\n",
       "    <tr>\n",
       "      <th>1</th>\n",
       "      <td>Modeling the impact of disease resistance on r...</td>\n",
       "      <td>Talk</td>\n",
       "      <td>apps_2013</td>\n",
       "      <td>Australasian Plant Pathology Society Biennial ...</td>\n",
       "      <td>2013-03-01</td>\n",
       "      <td>Auckland, NZ</td>\n",
       "      <td>NaN</td>\n",
       "      <td>NaN</td>\n",
       "    </tr>\n",
       "    <tr>\n",
       "      <th>2</th>\n",
       "      <td>Spatial modelling of rice yield losses due to ...</td>\n",
       "      <td>Talk</td>\n",
       "      <td>icpp_2013</td>\n",
       "      <td>10th International Congress of Plant Pathology</td>\n",
       "      <td>2014-03-01</td>\n",
       "      <td>Beijing, China</td>\n",
       "      <td>NaN</td>\n",
       "      <td>NaN</td>\n",
       "    </tr>\n",
       "    <tr>\n",
       "      <th>3</th>\n",
       "      <td>Preventing what ails rice with a strategic, st...</td>\n",
       "      <td>Talk</td>\n",
       "      <td>aps_2012</td>\n",
       "      <td>American Phytopathological Society Annual Meeting</td>\n",
       "      <td>2012-08</td>\n",
       "      <td>Providence, Rhode Island</td>\n",
       "      <td>NaN</td>\n",
       "      <td>NaN</td>\n",
       "    </tr>\n",
       "    <tr>\n",
       "      <th>4</th>\n",
       "      <td>Adapting global disease forecasting models for...</td>\n",
       "      <td>Talk</td>\n",
       "      <td>iep_2009</td>\n",
       "      <td>9th International Epidemiology Workshop</td>\n",
       "      <td>2009-06</td>\n",
       "      <td>Geneva, NY, USA</td>\n",
       "      <td>NaN</td>\n",
       "      <td>NaN</td>\n",
       "    </tr>\n",
       "    <tr>\n",
       "      <th>5</th>\n",
       "      <td>Taking sustainable crop protection from the  f...</td>\n",
       "      <td>Invited talk</td>\n",
       "      <td>irc_2014</td>\n",
       "      <td>4th International Rice Congress (IRC2014)</td>\n",
       "      <td>2014-10</td>\n",
       "      <td>Bangkok, Thailand</td>\n",
       "      <td>https://figshare.com/articles/Taking_Sustainab...</td>\n",
       "      <td>NaN</td>\n",
       "    </tr>\n",
       "    <tr>\n",
       "      <th>6</th>\n",
       "      <td>Impact of climate change on rice diseases</td>\n",
       "      <td>Invited talk</td>\n",
       "      <td>cabi_2014</td>\n",
       "      <td>Workshop on the impact of climate change on cr...</td>\n",
       "      <td>2014-08</td>\n",
       "      <td>Ho Chi Minh City, Vietnam</td>\n",
       "      <td>NaN</td>\n",
       "      <td>NaN</td>\n",
       "    </tr>\n",
       "    <tr>\n",
       "      <th>7</th>\n",
       "      <td>Epidemiology and disease management of rice br...</td>\n",
       "      <td>Invited talk</td>\n",
       "      <td>ips_2014</td>\n",
       "      <td>66th Annual Indian Phytopathological Society M...</td>\n",
       "      <td>2014-06</td>\n",
       "      <td>Indira Gandhi Krishi Vishwavidyalaya Universit...</td>\n",
       "      <td>https://figshare.com/articles/IPS_2014/1037569</td>\n",
       "      <td>NaN</td>\n",
       "    </tr>\n",
       "    <tr>\n",
       "      <th>8</th>\n",
       "      <td>Biosecurity risks in Southeast Asia impacting ...</td>\n",
       "      <td>Invited talk</td>\n",
       "      <td>pacom_2013</td>\n",
       "      <td>Australian Department of Defence (ADoD) and U....</td>\n",
       "      <td>NaN</td>\n",
       "      <td>Sydney, NSW, Australia</td>\n",
       "      <td>NaN</td>\n",
       "      <td>NaN</td>\n",
       "    </tr>\n",
       "    <tr>\n",
       "      <th>9</th>\n",
       "      <td>Global potato late blight risk in response to ...</td>\n",
       "      <td>Invited talk</td>\n",
       "      <td>nyas_2010</td>\n",
       "      <td>Emerging infectious diseases in response to cl...</td>\n",
       "      <td>2010-03</td>\n",
       "      <td>New York, New York, USA</td>\n",
       "      <td>NaN</td>\n",
       "      <td>NaN</td>\n",
       "    </tr>\n",
       "  </tbody>\n",
       "</table>\n",
       "</div>"
      ],
      "text/plain": [
       "                                               title          type  \\\n",
       "0  Mapping Rice Diseases for Targeted Deployment ...          Talk   \n",
       "1  Modeling the impact of disease resistance on r...          Talk   \n",
       "2  Spatial modelling of rice yield losses due to ...          Talk   \n",
       "3  Preventing what ails rice with a strategic, st...          Talk   \n",
       "4  Adapting global disease forecasting models for...          Talk   \n",
       "5  Taking sustainable crop protection from the  f...  Invited talk   \n",
       "6          Impact of climate change on rice diseases  Invited talk   \n",
       "7  Epidemiology and disease management of rice br...  Invited talk   \n",
       "8  Biosecurity risks in Southeast Asia impacting ...  Invited talk   \n",
       "9  Global potato late blight risk in response to ...  Invited talk   \n",
       "\n",
       "     url_slug                                              venue        date  \\\n",
       "0   apps_2015  Australasian Plant Pathology Society Biennial ...       2015-   \n",
       "1   apps_2013  Australasian Plant Pathology Society Biennial ...  2013-03-01   \n",
       "2   icpp_2013     10th International Congress of Plant Pathology  2014-03-01   \n",
       "3    aps_2012  American Phytopathological Society Annual Meeting     2012-08   \n",
       "4    iep_2009            9th International Epidemiology Workshop     2009-06   \n",
       "5    irc_2014          4th International Rice Congress (IRC2014)     2014-10   \n",
       "6   cabi_2014  Workshop on the impact of climate change on cr...     2014-08   \n",
       "7    ips_2014  66th Annual Indian Phytopathological Society M...     2014-06   \n",
       "8  pacom_2013  Australian Department of Defence (ADoD) and U....         NaN   \n",
       "9   nyas_2010  Emerging infectious diseases in response to cl...     2010-03   \n",
       "\n",
       "                                            location  \\\n",
       "0                                 Fremantle, WA, AUS   \n",
       "1                                       Auckland, NZ   \n",
       "2                                     Beijing, China   \n",
       "3                           Providence, Rhode Island   \n",
       "4                                    Geneva, NY, USA   \n",
       "5                                  Bangkok, Thailand   \n",
       "6                          Ho Chi Minh City, Vietnam   \n",
       "7  Indira Gandhi Krishi Vishwavidyalaya Universit...   \n",
       "8                             Sydney, NSW, Australia   \n",
       "9                            New York, New York, USA   \n",
       "\n",
       "                                            talk_url  description  \n",
       "0                                                NaN          NaN  \n",
       "1                                                NaN          NaN  \n",
       "2                                                NaN          NaN  \n",
       "3                                                NaN          NaN  \n",
       "4                                                NaN          NaN  \n",
       "5  https://figshare.com/articles/Taking_Sustainab...          NaN  \n",
       "6                                                NaN          NaN  \n",
       "7     https://figshare.com/articles/IPS_2014/1037569          NaN  \n",
       "8                                                NaN          NaN  \n",
       "9                                                NaN          NaN  "
      ]
     },
     "execution_count": 3,
     "metadata": {},
     "output_type": "execute_result"
    }
   ],
   "source": [
    "talks = pd.read_csv(\"talks.tsv\", sep=\"\\t\", header=0)\n",
    "talks"
   ]
  },
  {
   "cell_type": "markdown",
   "metadata": {},
   "source": [
    "## Escape special characters\n",
    "\n",
    "YAML is very picky about how it takes a valid string, so we are replacing single and double quotes (and ampersands) with their HTML encoded equivilents. This makes them look not so readable in raw format, but they are parsed and rendered nicely."
   ]
  },
  {
   "cell_type": "code",
   "execution_count": 4,
   "metadata": {},
   "outputs": [],
   "source": [
    "html_escape_table = {\n",
    "    \"&\": \"&amp;\",\n",
    "    '\"': \"&quot;\",\n",
    "    \"'\": \"&apos;\"\n",
    "    }\n",
    "\n",
    "def html_escape(text):\n",
    "    if type(text) is str:\n",
    "        return \"\".join(html_escape_table.get(c,c) for c in text)\n",
    "    else:\n",
    "        return \"False\""
   ]
  },
  {
   "cell_type": "markdown",
   "metadata": {},
   "source": [
    "## Creating the markdown files\n",
    "\n",
    "This is where the heavy lifting is done. This loops through all the rows in the TSV dataframe, then starts to concatentate a big string (```md```) that contains the markdown for each type. It does the YAML metadata first, then does the description for the individual page."
   ]
  },
  {
   "cell_type": "code",
   "execution_count": 5,
   "metadata": {},
   "outputs": [
    {
     "ename": "TypeError",
     "evalue": "'float' object has no attribute '__getitem__'",
     "output_type": "error",
     "traceback": [
      "\u001b[0;31m---------------------------------------------------------------------------\u001b[0m",
      "\u001b[0;31mTypeError\u001b[0m                                 Traceback (most recent call last)",
      "\u001b[0;32m<ipython-input-5-d441032ab1bf>\u001b[0m in \u001b[0;36m<module>\u001b[0;34m()\u001b[0m\n\u001b[1;32m      5\u001b[0m     \u001b[0mmd_filename\u001b[0m \u001b[0;34m=\u001b[0m \u001b[0mstr\u001b[0m\u001b[0;34m(\u001b[0m\u001b[0mitem\u001b[0m\u001b[0;34m.\u001b[0m\u001b[0mdate\u001b[0m\u001b[0;34m)\u001b[0m \u001b[0;34m+\u001b[0m \u001b[0;34m\"-\"\u001b[0m \u001b[0;34m+\u001b[0m \u001b[0mitem\u001b[0m\u001b[0;34m.\u001b[0m\u001b[0murl_slug\u001b[0m \u001b[0;34m+\u001b[0m \u001b[0;34m\".md\"\u001b[0m\u001b[0;34m\u001b[0m\u001b[0m\n\u001b[1;32m      6\u001b[0m     \u001b[0mhtml_filename\u001b[0m \u001b[0;34m=\u001b[0m \u001b[0mstr\u001b[0m\u001b[0;34m(\u001b[0m\u001b[0mitem\u001b[0m\u001b[0;34m.\u001b[0m\u001b[0mdate\u001b[0m\u001b[0;34m)\u001b[0m \u001b[0;34m+\u001b[0m \u001b[0;34m\"-\"\u001b[0m \u001b[0;34m+\u001b[0m \u001b[0mitem\u001b[0m\u001b[0;34m.\u001b[0m\u001b[0murl_slug\u001b[0m\u001b[0;34m\u001b[0m\u001b[0m\n\u001b[0;32m----> 7\u001b[0;31m     \u001b[0myear\u001b[0m \u001b[0;34m=\u001b[0m \u001b[0mitem\u001b[0m\u001b[0;34m.\u001b[0m\u001b[0mdate\u001b[0m\u001b[0;34m[\u001b[0m\u001b[0;34m:\u001b[0m\u001b[0;36m4\u001b[0m\u001b[0;34m]\u001b[0m\u001b[0;34m\u001b[0m\u001b[0m\n\u001b[0m\u001b[1;32m      8\u001b[0m \u001b[0;34m\u001b[0m\u001b[0m\n\u001b[1;32m      9\u001b[0m     \u001b[0mmd\u001b[0m \u001b[0;34m=\u001b[0m \u001b[0;34m\"---\\ntitle: \\\"\"\u001b[0m   \u001b[0;34m+\u001b[0m \u001b[0mitem\u001b[0m\u001b[0;34m.\u001b[0m\u001b[0mtitle\u001b[0m \u001b[0;34m+\u001b[0m \u001b[0;34m'\"\\n'\u001b[0m\u001b[0;34m\u001b[0m\u001b[0m\n",
      "\u001b[0;31mTypeError\u001b[0m: 'float' object has no attribute '__getitem__'"
     ]
    }
   ],
   "source": [
    "loc_dict = {}\n",
    "\n",
    "for row, item in talks.iterrows():\n",
    "    \n",
    "    md_filename = str(item.date) + \"-\" + item.url_slug + \".md\"\n",
    "    html_filename = str(item.date) + \"-\" + item.url_slug \n",
    "    year = item.date[:4]\n",
    "    \n",
    "    md = \"---\\ntitle: \\\"\"   + item.title + '\"\\n'\n",
    "    md += \"collection: talks\" + \"\\n\"\n",
    "    \n",
    "    if len(str(item.type)) > 3:\n",
    "        md += 'type: \"' + item.type + '\"\\n'\n",
    "    else:\n",
    "        md += 'type: \"Talk\"\\n'\n",
    "    \n",
    "    md += \"permalink: /talks/\" + html_filename + \"\\n\"\n",
    "    \n",
    "    if len(str(item.venue)) > 3:\n",
    "        md += 'venue: \"' + item.venue + '\"\\n'\n",
    "        \n",
    "    if len(str(item.location)) > 3:\n",
    "        md += \"date: \" + str(item.date) + \"\\n\"\n",
    "    \n",
    "    if len(str(item.location)) > 3:\n",
    "        md += 'location: \"' + str(item.location) + '\"\\n'\n",
    "           \n",
    "    md += \"---\\n\"\n",
    "    \n",
    "    \n",
    "    if len(str(item.talk_url)) > 3:\n",
    "        md += \"\\n[More information here](\" + item.talk_url + \")\\n\" \n",
    "        \n",
    "    \n",
    "    if len(str(item.description)) > 3:\n",
    "        md += \"\\n\" + html_escape(item.description) + \"\\n\"\n",
    "        \n",
    "        \n",
    "    md_filename = os.path.basename(md_filename)\n",
    "    #print(md)\n",
    "    \n",
    "    with open(\"../_talks/\" + md_filename, 'w') as f:\n",
    "        f.write(md)"
   ]
  },
  {
   "cell_type": "markdown",
   "metadata": {},
   "source": [
    "These files are in the talks directory, one directory below where we're working from."
   ]
  },
  {
   "cell_type": "code",
   "execution_count": 6,
   "metadata": {},
   "outputs": [
    {
     "name": "stdout",
     "output_type": "stream",
     "text": [
      "2012-03-01-talk-1.md\t  2014-02-01-talk-2.md\r\n",
      "2013-03-01-tutorial-1.md  2014-03-01-talk-3.md\r\n"
     ]
    }
   ],
   "source": [
    "!ls ../_talks"
   ]
  },
  {
   "cell_type": "code",
   "execution_count": 7,
   "metadata": {},
   "outputs": [
    {
     "name": "stdout",
     "output_type": "stream",
     "text": [
      "---\r\n",
      "title: \"Tutorial 1 on Relevant Topic in Your Field\"\r\n",
      "collection: talks\r\n",
      "type: \"Tutorial\"\r\n",
      "permalink: /talks/2013-03-01-tutorial-1\r\n",
      "venue: \"UC-Berkeley Institute for Testing Science\"\r\n",
      "date: 2013-03-01\r\n",
      "location: \"Berkeley CA, USA\"\r\n",
      "---\r\n",
      "\r\n",
      "[More information here](http://exampleurl.com)\r\n",
      "\r\n",
      "This is a description of your tutorial, note the different field in type. This is a markdown files that can be all markdown-ified like any other post. Yay markdown!\r\n"
     ]
    }
   ],
   "source": [
    "!cat ../_talks/2013-03-01-tutorial-1.md"
   ]
  }
 ],
 "metadata": {
  "kernelspec": {
   "display_name": "Python 2",
   "language": "python",
   "name": "python2"
  },
  "language_info": {
   "codemirror_mode": {
    "name": "ipython",
    "version": 2
   },
   "file_extension": ".py",
   "mimetype": "text/x-python",
   "name": "python",
   "nbconvert_exporter": "python",
   "pygments_lexer": "ipython2",
   "version": "2.7.13"
  }
 },
 "nbformat": 4,
 "nbformat_minor": 1
}
